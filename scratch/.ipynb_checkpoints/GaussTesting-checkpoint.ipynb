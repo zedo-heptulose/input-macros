{
 "cells": [
  {
   "cell_type": "code",
   "execution_count": 1,
   "id": "b5024d95-b0c2-4f1d-8ad3-6ebdab38a4fd",
   "metadata": {},
   "outputs": [
    {
     "name": "stdout",
     "output_type": "stream",
     "text": [
      "/gpfs/home/gdb20/code/input_macros\n"
     ]
    }
   ],
   "source": [
    "cd .."
   ]
  },
  {
   "cell_type": "code",
   "execution_count": 2,
   "id": "cf122093-921e-4f72-a89c-436526569306",
   "metadata": {},
   "outputs": [],
   "source": [
    "import input as nv"
   ]
  },
  {
   "cell_type": "code",
   "execution_count": 3,
   "id": "6b818ed5-1469-4ec4-9307-71ea2cb29947",
   "metadata": {},
   "outputs": [
    {
     "name": "stdout",
     "output_type": "stream",
     "text": [
      "./\n",
      "gaussian_config.json\n"
     ]
    }
   ],
   "source": [
    "print(nv.CONFIGPATH)\n",
    "print(nv.GAUSSCONFIG)\n",
    "orca_builder = nv.ORCAInputBuilder()"
   ]
  },
  {
   "cell_type": "code",
   "execution_count": 4,
   "id": "56c3f236-a4e2-426b-8f27-ab7fb45531db",
   "metadata": {},
   "outputs": [],
   "source": [
    "orca_builder\\\n",
    ".change_params({'xyz_directory':'./scratch/',\n",
    "               'write_directory':'/gpfs/home/gdb20/code/input_macros/scratch/test/'})\\\n",
    ".build()\\\n",
    ".create_directory()"
   ]
  },
  {
   "cell_type": "code",
   "execution_count": 5,
   "id": "09caf377-3bb0-4ac2-8125-656399bdf726",
   "metadata": {},
   "outputs": [
    {
     "ename": "AttributeError",
     "evalue": "'ORCAInput' object has no attribute 'kewords'",
     "output_type": "error",
     "traceback": [
      "\u001b[0;31m---------------------------------------------------------------------------\u001b[0m",
      "\u001b[0;31mAttributeError\u001b[0m                            Traceback (most recent call last)",
      "Cell \u001b[0;32mIn[5], line 2\u001b[0m\n\u001b[1;32m      1\u001b[0m orc_test \u001b[38;5;241m=\u001b[39m nv\u001b[38;5;241m.\u001b[39mORCAInput()\n\u001b[0;32m----> 2\u001b[0m \u001b[43morc_test\u001b[49m\u001b[38;5;241;43m.\u001b[39;49m\u001b[43mload_file\u001b[49m\u001b[43m(\u001b[49m\u001b[38;5;124;43m'\u001b[39;49m\u001b[38;5;124;43mtest.inp\u001b[39;49m\u001b[38;5;124;43m'\u001b[39;49m\u001b[43m,\u001b[49m\u001b[38;5;124;43m'\u001b[39;49m\u001b[38;5;124;43m./scratch/\u001b[39;49m\u001b[38;5;124;43m'\u001b[39;49m\u001b[43m)\u001b[49m\n",
      "File \u001b[0;32m~/code/input_macros/input.py:89\u001b[0m, in \u001b[0;36mORCAInput.load_file\u001b[0;34m(self, filename, directory)\u001b[0m\n\u001b[1;32m     87\u001b[0m     line \u001b[38;5;241m=\u001b[39m re\u001b[38;5;241m.\u001b[39mmatch(\u001b[38;5;124mr\u001b[39m\u001b[38;5;124m'\u001b[39m\u001b[38;5;124m(?:\u001b[39m\u001b[38;5;124m\\\u001b[39m\u001b[38;5;124ms*!)(.)\u001b[39m\u001b[38;5;124m'\u001b[39m,line)\u001b[38;5;241m.\u001b[39mgroup(\u001b[38;5;241m1\u001b[39m)\n\u001b[1;32m     88\u001b[0m     keys \u001b[38;5;241m=\u001b[39m re\u001b[38;5;241m.\u001b[39msplit(\u001b[38;5;124mr\u001b[39m\u001b[38;5;124m'\u001b[39m\u001b[38;5;124m\\\u001b[39m\u001b[38;5;124ms+\u001b[39m\u001b[38;5;124m'\u001b[39m,line)\n\u001b[0;32m---> 89\u001b[0m     \u001b[38;5;28;43mself\u001b[39;49m\u001b[38;5;241;43m.\u001b[39;49m\u001b[43mkewords\u001b[49m\u001b[38;5;241m.\u001b[39mappend(keys)\n\u001b[1;32m     91\u001b[0m \u001b[38;5;28;01melif\u001b[39;00m re\u001b[38;5;241m.\u001b[39mmatch(\u001b[38;5;124mr\u001b[39m\u001b[38;5;124m'\u001b[39m\u001b[38;5;124m\\\u001b[39m\u001b[38;5;124ms*\u001b[39m\u001b[38;5;124m%\u001b[39m\u001b[38;5;124m'\u001b[39m,line):\n\u001b[1;32m     92\u001b[0m     name \u001b[38;5;241m=\u001b[39m re\u001b[38;5;241m.\u001b[39mmatch(\u001b[38;5;124mr\u001b[39m\u001b[38;5;124m'\u001b[39m\u001b[38;5;124m(?:\u001b[39m\u001b[38;5;124m\\\u001b[39m\u001b[38;5;124ms*\u001b[39m\u001b[38;5;124m%\u001b[39m\u001b[38;5;124m)(?:\u001b[39m\u001b[38;5;124m\\\u001b[39m\u001b[38;5;124ms*!)\u001b[39m\u001b[38;5;124m'\u001b[39m,line)\u001b[38;5;241m.\u001b[39mgroup(\u001b[38;5;241m1\u001b[39m)\n",
      "\u001b[0;31mAttributeError\u001b[0m: 'ORCAInput' object has no attribute 'kewords'"
     ]
    }
   ],
   "source": [
    "orc_test = nv.ORCAInput()\n",
    "orc_test.load_file('test.inp','./scratch/')"
   ]
  },
  {
   "cell_type": "code",
   "execution_count": null,
   "id": "902f5f3d-43b5-41ad-99e8-bbb2b2cd1a72",
   "metadata": {},
   "outputs": [],
   "source": []
  }
 ],
 "metadata": {
  "kernelspec": {
   "display_name": "Python 3 (ipykernel)",
   "language": "python",
   "name": "python3"
  },
  "language_info": {
   "codemirror_mode": {
    "name": "ipython",
    "version": 3
   },
   "file_extension": ".py",
   "mimetype": "text/x-python",
   "name": "python",
   "nbconvert_exporter": "python",
   "pygments_lexer": "ipython3",
   "version": "3.11.5"
  }
 },
 "nbformat": 4,
 "nbformat_minor": 5
}
