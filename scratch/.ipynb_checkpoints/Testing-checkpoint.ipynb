{
 "cells": [
  {
   "cell_type": "code",
   "execution_count": 1,
   "id": "415bc043-0403-4869-a5f3-b65cf12ca630",
   "metadata": {},
   "outputs": [
    {
     "name": "stdout",
     "output_type": "stream",
     "text": [
      "/gpfs/home/gdb20/code/input_macros\n"
     ]
    }
   ],
   "source": [
    "cd .."
   ]
  },
  {
   "cell_type": "code",
   "execution_count": 2,
   "id": "e641f5e4-4509-45a1-9ef3-c01a5a738aba",
   "metadata": {},
   "outputs": [],
   "source": [
    "import orca_input as nv\n",
    "orca_builder = nv.ORCAInputBuilder()"
   ]
  },
  {
   "cell_type": "code",
   "execution_count": 3,
   "id": "8c4a0807-0743-4ba0-91d0-decf777e57dc",
   "metadata": {},
   "outputs": [],
   "source": [
    "orca_builder\\\n",
    ".change_params({'xyz_directory':'./scratch/',\n",
    "               'write_directory':'./scratch/test/'})\\\n",
    ".build()\\\n",
    ".create_directory()"
   ]
  },
  {
   "cell_type": "code",
   "execution_count": 4,
   "id": "44099719-6dc9-4d61-92d0-57ffc9b94dc9",
   "metadata": {},
   "outputs": [],
   "source": [
    "import xtb_input"
   ]
  },
  {
   "cell_type": "code",
   "execution_count": 5,
   "id": "2480c07d-c9b7-4f7f-8ff6-1281d24f4185",
   "metadata": {},
   "outputs": [],
   "source": [
    "xtb_builder = xtb_input.xTBInputBuilder()"
   ]
  },
  {
   "cell_type": "code",
   "execution_count": 6,
   "id": "e8fa2775-78ff-4de1-98e7-71a1816803c5",
   "metadata": {},
   "outputs": [],
   "source": [
    "xtb_job = xtb_builder\\\n",
    ".change_params({'xyz_directory':'./scratch/',\n",
    "               'write_directory':'./scratch/xtb_test/'})\\\n",
    ".build()"
   ]
  },
  {
   "cell_type": "code",
   "execution_count": 7,
   "id": "934ab4da-0d08-4c04-98a3-b19e7a1fbded",
   "metadata": {},
   "outputs": [],
   "source": [
    "xtb_job.create_directory()"
   ]
  },
  {
   "cell_type": "code",
   "execution_count": 9,
   "id": "6600ea3e-5587-435d-801f-c5331309cee9",
   "metadata": {},
   "outputs": [],
   "source": [
    "lona_xtb = xtb_builder\\\n",
    ".change_params({'xyz_directory':'../mol_maker/data/lib/stgaps_xyz',\n",
    "                'xyz_file':'lona_molecule.xyz',\n",
    "                'job_name' : 'lona_molecule',\n",
    "                'write_directory' : 'output/lona_molecule'})\\\n",
    ".build()"
   ]
  },
  {
   "cell_type": "code",
   "execution_count": 10,
   "id": "3f657fde-172f-4f23-9b92-ed710839d795",
   "metadata": {},
   "outputs": [],
   "source": [
    "lona_xtb.create_directory()"
   ]
  },
  {
   "cell_type": "code",
   "execution_count": 10,
   "id": "a53e68db-a82d-468d-be09-ba51eee88abd",
   "metadata": {},
   "outputs": [],
   "source": []
  },
  {
   "cell_type": "code",
   "execution_count": 11,
   "id": "1d784d5b-40b4-48bf-be3f-84963ea440aa",
   "metadata": {},
   "outputs": [],
   "source": []
  },
  {
   "cell_type": "code",
   "execution_count": null,
   "id": "e8db9ce5-7b0e-4092-a1c9-52ccb3e2f62e",
   "metadata": {},
   "outputs": [],
   "source": []
  },
  {
   "cell_type": "code",
   "execution_count": null,
   "id": "56202172-8f63-4741-8b15-5f7bad75a367",
   "metadata": {},
   "outputs": [],
   "source": []
  },
  {
   "cell_type": "code",
   "execution_count": null,
   "id": "e3c91f6d-93be-40b3-b895-8a4cc978c438",
   "metadata": {},
   "outputs": [],
   "source": []
  },
  {
   "cell_type": "code",
   "execution_count": null,
   "id": "07617bc9-ecb5-48c3-874e-c6ddc0da7e66",
   "metadata": {},
   "outputs": [],
   "source": []
  }
 ],
 "metadata": {
  "kernelspec": {
   "display_name": "Python 3 (ipykernel)",
   "language": "python",
   "name": "python3"
  },
  "language_info": {
   "codemirror_mode": {
    "name": "ipython",
    "version": 3
   },
   "file_extension": ".py",
   "mimetype": "text/x-python",
   "name": "python",
   "nbconvert_exporter": "python",
   "pygments_lexer": "ipython3",
   "version": "3.11.5"
  }
 },
 "nbformat": 4,
 "nbformat_minor": 5
}
