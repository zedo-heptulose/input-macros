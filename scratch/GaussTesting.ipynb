{
 "cells": [
  {
   "cell_type": "code",
   "execution_count": 1,
   "id": "b5024d95-b0c2-4f1d-8ad3-6ebdab38a4fd",
   "metadata": {},
   "outputs": [
    {
     "name": "stdout",
     "output_type": "stream",
     "text": [
      "/gpfs/home/gdb20/code/input_macros\n"
     ]
    }
   ],
   "source": [
    "cd .."
   ]
  },
  {
   "cell_type": "code",
   "execution_count": 2,
   "id": "cf122093-921e-4f72-a89c-436526569306",
   "metadata": {},
   "outputs": [],
   "source": [
    "import input as nv"
   ]
  },
  {
   "cell_type": "code",
   "execution_count": 3,
   "id": "6b818ed5-1469-4ec4-9307-71ea2cb29947",
   "metadata": {},
   "outputs": [
    {
     "name": "stdout",
     "output_type": "stream",
     "text": [
      "./\n",
      "gaussian_config.json\n"
     ]
    }
   ],
   "source": [
    "print(nv.CONFIGPATH)\n",
    "print(nv.GAUSSCONFIG)\n",
    "orca_builder = nv.ORCAInputBuilder()"
   ]
  },
  {
   "cell_type": "code",
   "execution_count": 4,
   "id": "56c3f236-a4e2-426b-8f27-ab7fb45531db",
   "metadata": {},
   "outputs": [],
   "source": [
    "orca_builder\\\n",
    ".change_params({'xyz_directory':'./scratch/',\n",
    "               'write_directory':'/gpfs/home/gdb20/code/input_macros/scratch/test/',\n",
    "               'job_name':'test'})\\\n",
    ".build()\\\n",
    ".create_directory()"
   ]
  },
  {
   "cell_type": "code",
   "execution_count": 5,
   "id": "09caf377-3bb0-4ac2-8125-656399bdf726",
   "metadata": {},
   "outputs": [
    {
     "name": "stdout",
     "output_type": "stream",
     "text": [
      "! UKS\n",
      "\n",
      "adding keywords: ['', 'UKS']\n",
      "! r2SCAN-3c\n",
      "\n",
      "adding keywords: ['', 'r2SCAN-3c']\n",
      "! opt freq\n",
      "\n",
      "adding keywords: ['', 'opt', 'freq']\n",
      "\n",
      "\n",
      "%maxcore 3000\n",
      "\n",
      "maxcore line found\n",
      "\n",
      "\n",
      "%pal\n",
      "\n",
      "starting block with name: pal\n",
      " nprocs 20\n",
      "\n",
      "in temp block\n",
      "end\n",
      "\n",
      "ending block\n",
      "\n",
      "\n",
      "\n",
      "\n",
      "* xyzfile 0 1 test.xyz \n",
      "\n",
      "charge: 0 multiplicity: 1 xyz fn: test.xyz\n",
      "\n",
      "\n"
     ]
    }
   ],
   "source": [
    "orc_test = nv.ORCAInput()\n",
    "orc_test.load_file('test.inp','./scratch/test/')"
   ]
  },
  {
   "cell_type": "code",
   "execution_count": 6,
   "id": "902f5f3d-43b5-41ad-99e8-bbb2b2cd1a72",
   "metadata": {},
   "outputs": [],
   "source": [
    "orc_test.write_file()"
   ]
  },
  {
   "cell_type": "code",
   "execution_count": null,
   "id": "9afbd150-8c51-4dc9-86de-77a24ec807b3",
   "metadata": {},
   "outputs": [],
   "source": []
  }
 ],
 "metadata": {
  "kernelspec": {
   "display_name": "Python 3 (ipykernel)",
   "language": "python",
   "name": "python3"
  },
  "language_info": {
   "codemirror_mode": {
    "name": "ipython",
    "version": 3
   },
   "file_extension": ".py",
   "mimetype": "text/x-python",
   "name": "python",
   "nbconvert_exporter": "python",
   "pygments_lexer": "ipython3",
   "version": "3.11.5"
  }
 },
 "nbformat": 4,
 "nbformat_minor": 5
}
