{
 "cells": [
  {
   "cell_type": "code",
   "execution_count": 1,
   "id": "c9b1db74-c844-4b21-ad63-d7336b6febc7",
   "metadata": {},
   "outputs": [],
   "source": [
    "import gaussian_input\n",
    "import itertools"
   ]
  },
  {
   "cell_type": "code",
   "execution_count": 2,
   "id": "a4c10759-86d2-4691-975e-83f7858801af",
   "metadata": {},
   "outputs": [],
   "source": [
    "('oh','oh.xyz')\n",
    "\n",
    "xyzfiles = [('h2o2','h2o2.xyz')]\n",
    "\n",
    "functionals = [('b3lyp','b3lyp'),('m06-2x','m062x'),('m08-hx','m08hx'),('pbepbe','pbepbe')]\n",
    "basis_sets = [('6-31+Gdp','6-31+G(d,p)'),('6-31++Gdp','6-31++G(d,p)'),('6-311+Gdp','6-311+G(d,p)'),\n",
    "              ('6-311++Gdp','6-311++G(d,p)')]"
   ]
  },
  {
   "cell_type": "code",
   "execution_count": 3,
   "id": "472f5425-981b-4f8b-8f01-a564e154f2d7",
   "metadata": {},
   "outputs": [],
   "source": [
    "builder = gaussian_input.GaussianInputBuilder()"
   ]
  },
  {
   "cell_type": "code",
   "execution_count": 4,
   "id": "7efa36ab-544c-49dc-a977-71605537a8ef",
   "metadata": {},
   "outputs": [],
   "source": [
    "xyz_directory = './temp/'\n",
    "\n",
    "configs = []\n",
    "configs = list(itertools.product(functionals,basis_sets))                        "
   ]
  },
  {
   "cell_type": "code",
   "execution_count": 5,
   "id": "fea66bad-4997-4f91-9d5e-1ab136c23f8f",
   "metadata": {},
   "outputs": [
    {
     "data": {
      "text/plain": [
       "[(('b3lyp', 'b3lyp'), ('6-31+Gdp', '6-31+G(d,p)')),\n",
       " (('b3lyp', 'b3lyp'), ('6-31++Gdp', '6-31++G(d,p)')),\n",
       " (('b3lyp', 'b3lyp'), ('6-311+Gdp', '6-311+G(d,p)')),\n",
       " (('b3lyp', 'b3lyp'), ('6-311++Gdp', '6-311++G(d,p)')),\n",
       " (('m06-2x', 'm062x'), ('6-31+Gdp', '6-31+G(d,p)')),\n",
       " (('m06-2x', 'm062x'), ('6-31++Gdp', '6-31++G(d,p)')),\n",
       " (('m06-2x', 'm062x'), ('6-311+Gdp', '6-311+G(d,p)')),\n",
       " (('m06-2x', 'm062x'), ('6-311++Gdp', '6-311++G(d,p)')),\n",
       " (('m08-hx', 'm08hx'), ('6-31+Gdp', '6-31+G(d,p)')),\n",
       " (('m08-hx', 'm08hx'), ('6-31++Gdp', '6-31++G(d,p)')),\n",
       " (('m08-hx', 'm08hx'), ('6-311+Gdp', '6-311+G(d,p)')),\n",
       " (('m08-hx', 'm08hx'), ('6-311++Gdp', '6-311++G(d,p)')),\n",
       " (('pbepbe', 'pbepbe'), ('6-31+Gdp', '6-31+G(d,p)')),\n",
       " (('pbepbe', 'pbepbe'), ('6-31++Gdp', '6-31++G(d,p)')),\n",
       " (('pbepbe', 'pbepbe'), ('6-311+Gdp', '6-311+G(d,p)')),\n",
       " (('pbepbe', 'pbepbe'), ('6-311++Gdp', '6-311++G(d,p)'))]"
      ]
     },
     "execution_count": 5,
     "metadata": {},
     "output_type": "execute_result"
    }
   ],
   "source": [
    "configs"
   ]
  },
  {
   "cell_type": "code",
   "execution_count": 6,
   "id": "647bd6eb-56ea-4326-b95f-473d736363ff",
   "metadata": {},
   "outputs": [],
   "source": [
    "#MUST use absolute path for write_directory when using Gaussian\n",
    "builder.change_params({\n",
    "    'xyz_file' : 'h2o2.xyz',\n",
    "    'xyz_directory' : \"./temp/\",\n",
    "    'write_directory' : \"/gpfs/home/gdb20/code/input_macros/temp/\",\n",
    "    'run_type' : \"OPT FREQ\",\n",
    "    'num_cores' : 4,\n",
    "    'runtime' : '0-00:05:00',\n",
    "})\n",
    "for config in configs:\n",
    "    new_config = {}\n",
    "    new_config['functional'] = config[0][1]\n",
    "    new_config['basis_set'] = config[1][1]\n",
    "    new_config['job_name'] = f\"h2o2_{config[0][0]}_{config[1][0]}\"\n",
    "    builder.change_params(new_config)\n",
    "    builder.build().create_directory()\n",
    "\n",
    "builder.change_params({\n",
    "    'xyz_file' : 'oh.xyz',\n",
    "    'xyz_directory' : \"./temp/\",\n",
    "})\n",
    "builder.change_params({'uks' : True })\n",
    "builder.change_params({'spin_multiplicity': 2})\n",
    "for config in configs:\n",
    "    new_config = {}\n",
    "    new_config['functional'] = config[0][1]\n",
    "    new_config['basis_set'] = config[1][1]\n",
    "    new_config['job_name'] = f\"oh_radical_{config[0][0]}_{config[1][0]}\"\n",
    "    builder.change_params(new_config)\n",
    "    builder.build().create_directory()"
   ]
  },
  {
   "cell_type": "code",
   "execution_count": null,
   "id": "50f3b890-0e93-4577-bd6e-80ea840b36bf",
   "metadata": {},
   "outputs": [],
   "source": []
  },
  {
   "cell_type": "code",
   "execution_count": null,
   "id": "62197fe4-2075-44da-b540-085bf64ed02d",
   "metadata": {},
   "outputs": [],
   "source": []
  },
  {
   "cell_type": "code",
   "execution_count": null,
   "id": "eca9c4ea-2a00-4e49-8de8-9b109053bf71",
   "metadata": {},
   "outputs": [],
   "source": []
  },
  {
   "cell_type": "code",
   "execution_count": null,
   "id": "e9aa68f8-c263-43b4-b579-ff31b9aa277b",
   "metadata": {},
   "outputs": [],
   "source": []
  }
 ],
 "metadata": {
  "kernelspec": {
   "display_name": "Python 3 (ipykernel)",
   "language": "python",
   "name": "python3"
  },
  "language_info": {
   "codemirror_mode": {
    "name": "ipython",
    "version": 3
   },
   "file_extension": ".py",
   "mimetype": "text/x-python",
   "name": "python",
   "nbconvert_exporter": "python",
   "pygments_lexer": "ipython3",
   "version": "3.11.5"
  }
 },
 "nbformat": 4,
 "nbformat_minor": 5
}
